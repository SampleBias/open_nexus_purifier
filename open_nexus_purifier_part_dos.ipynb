{
  "nbformat": 4,
  "nbformat_minor": 0,
  "metadata": {
    "colab": {
      "provenance": [],
      "authorship_tag": "ABX9TyOaP1QGgF949LGV7HNWDDGW",
      "include_colab_link": true
    },
    "kernelspec": {
      "name": "python3",
      "display_name": "Python 3"
    },
    "language_info": {
      "name": "python"
    }
  },
  "cells": [
    {
      "cell_type": "markdown",
      "metadata": {
        "id": "view-in-github",
        "colab_type": "text"
      },
      "source": [
        "<a href=\"https://colab.research.google.com/github/SampleBias/open_nexus_purifier/blob/main/open_nexus_purifier_part_dos.ipynb\" target=\"_parent\"><img src=\"https://colab.research.google.com/assets/colab-badge.svg\" alt=\"Open In Colab\"/></a>"
      ]
    },
    {
      "cell_type": "code",
      "execution_count": null,
      "metadata": {
        "id": "f9ar_oaWp8a6"
      },
      "outputs": [],
      "source": [
        "!pip install gradio"
      ]
    },
    {
      "cell_type": "code",
      "source": [
        "!pip install pandas"
      ],
      "metadata": {
        "id": "Ci2SJK-_qCRm"
      },
      "execution_count": null,
      "outputs": []
    },
    {
      "cell_type": "code",
      "source": [
        "!pip install numpy"
      ],
      "metadata": {
        "id": "UqcYTt3jqE3t"
      },
      "execution_count": null,
      "outputs": []
    },
    {
      "cell_type": "code",
      "source": [
        "import gradio as gr\n",
        "import pandas as pd\n",
        "import tempfile\n",
        "import os"
      ],
      "metadata": {
        "id": "DoWEfcQeqHld"
      },
      "execution_count": null,
      "outputs": []
    },
    {
      "cell_type": "code",
      "source": [
        "def process_csv(input_file):\n",
        "    try:\n",
        "        # Read the uploaded file (assuming it's a CSV or TXT with CSV formatting)\n",
        "        df = pd.read_csv(input_file, dtype=str)\n",
        "\n",
        "        # Specify the column names you want to keep\n",
        "        columns_to_keep = ['PATIENT_ID', 'AGE_AT_SEQ_REPORT', 'SAMPLE_ID']\n",
        "\n",
        "        # Check if the necessary columns are in the DataFrame\n",
        "        if not all(column in df.columns for column in columns_to_keep):\n",
        "            missing_columns = [col for col in columns_to_keep if col not in df.columns]\n",
        "            return f\"Error: Missing columns {missing_columns}\"\n",
        "\n",
        "        # Select the desired columns\n",
        "        df = df[columns_to_keep]\n",
        "\n",
        "        # Create a temporary file to store the modified CSV\n",
        "        with tempfile.NamedTemporaryFile(mode='w+', delete=False, suffix='.csv') as temp_file:\n",
        "            df.to_csv(temp_file, index=False)\n",
        "            temp_file.flush()  # Ensure all data is written to the file\n",
        "            return temp_file.name  # Return the path for Gradio to handle the download\n",
        "\n",
        "    except Exception as e:\n",
        "        return f\"An error occurred: {str(e)}\"  # Return detailed error message"
      ],
      "metadata": {
        "id": "7_LoswVrqKM2"
      },
      "execution_count": 1,
      "outputs": []
    },
    {
      "cell_type": "code",
      "source": [
        "iface = gr.Interface(\n",
        "    fn=process_csv,\n",
        "    inputs=gr.File(file_types=[\"csv\", \"txt\"]),\n",
        "    outputs=gr.File(),\n",
        "    title=\"CSV Column Selector\",\n",
        "    description=\"Upload a CSV file to select specific columns and download the modified version.\"\n",
        ")"
      ],
      "metadata": {
        "id": "uWwHWi_2qPZa"
      },
      "execution_count": null,
      "outputs": []
    },
    {
      "cell_type": "code",
      "source": [
        "# Launch the app with the share parameter set to True and enable queuing\n",
        "iface.launch(share=True)"
      ],
      "metadata": {
        "id": "lDR1RjkmqTdj"
      },
      "execution_count": null,
      "outputs": []
    }
  ]
}